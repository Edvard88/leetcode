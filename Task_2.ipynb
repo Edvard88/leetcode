{
 "cells": [
  {
   "cell_type": "markdown",
   "metadata": {},
   "source": [
    "# Описание задачи."
   ]
  },
  {
   "cell_type": "markdown",
   "metadata": {},
   "source": [
    "Мы – организаторы некой многопользовательской онлайн-игры. На каждого игрока мы ведем игровую статистику, которая представлена <br/>\n",
    "в виде 127 игровых показателей. Каждый показатель характеризует поведение игрока в одной разновидности игровых ситуаций. <br/>\n",
    "Показатель является отношением числа произведенных игровых действий одного типа к числу возможностей данное действие произвести. <br/>\n",
    "\n",
    "У нас уже есть группа игроков (первая часть таблицы, все игроки с именами  gr_player…) с одинаковой игрой. <br/>\n",
    "Какими диапазонами показателей характеризуется стиль игры данной группы? <br/>\n",
    "В ответе требуется в любой форме указать алгоритм отнесения произвольного игрока по его игровым показателям к данной группе, а также <br/>\n",
    "продемонстрировать данный алгоритм при ответе на вопрос: кого из на указанных игроков из второй части таблицы (зеленая часть, имена new_player…) можно отнести к данной группе и <br/>\n",
    "почему нельзя остальных? \n",
    "    \n",
    "    "
   ]
  },
  {
   "cell_type": "markdown",
   "metadata": {},
   "source": [
    "# Содержание"
   ]
  },
  {
   "cell_type": "markdown",
   "metadata": {},
   "source": [
    "1. EDA\n",
    "    * Первичный анализ данных \n",
    "    * Преобразование данных\n",
    "    * Standart-Scaling \n",
    "<br/>\n",
    "2. Описание алгоритма\n",
    "<br/>\n",
    "3. Neighbors\n",
    "    * Преобразование данных\n",
    "    * Обучение модели\n",
    "    * Предсказание модели\n",
    "    * Собираем финальную таблицу\n",
    "<br/>\n",
    "4. Итоговые результаты\n",
    "5. Что можно улучшить\n"
   ]
  },
  {
   "cell_type": "code",
   "execution_count": null,
   "metadata": {},
   "outputs": [],
   "source": []
  },
  {
   "cell_type": "code",
   "execution_count": 86,
   "metadata": {
    "ExecuteTime": {
     "end_time": "2022-10-03T08:54:56.285906Z",
     "start_time": "2022-10-03T08:54:55.917582Z"
    }
   },
   "outputs": [],
   "source": [
    "import pandas as pd\n",
    "import numpy as np\n",
    "\n",
    "\n",
    "\n",
    "from sklearn import preprocessing\n",
    "from sklearn import decomposition\n",
    "\n",
    "from sklearn import metrics\n",
    "from sklearn.metrics.cluster import adjusted_rand_score\n",
    "from sklearn.decomposition import PCA\n",
    "from sklearn.preprocessing import StandardScaler\n",
    "from sklearn.manifold import TSNE\n",
    "\n",
    "\n",
    "from sklearn import datasets\n",
    "from sklearn.cluster import KMeans\n",
    "from sklearn.mixture import GaussianMixture\n",
    "from sklearn.cluster import AffinityPropagation\n",
    "from sklearn.cluster import DBSCAN\n",
    "from sklearn.cluster import SpectralClustering\n",
    "from sklearn.cluster import AgglomerativeClustering\n",
    "from sklearn.cluster import MeanShift\n",
    "\n",
    "from sklearn.neighbors import NearestNeighbors\n",
    "\n",
    "\n",
    "from functools import reduce\n",
    "\n",
    "import seaborn as sns\n",
    "sns.set(style=\"white\", color_codes=True)\n",
    "import matplotlib as mpl\n",
    "import matplotlib.pyplot as plt\n",
    "\n",
    "\n",
    "import plotly\n",
    "import plotly.graph_objs as go\n",
    "import plotly.express as px\n",
    "\n",
    "\n",
    "import warnings\n",
    "warnings.filterwarnings(\"ignore\")\n",
    "\n",
    "# show plots inline\n",
    "%matplotlib inline\n",
    "\n",
    "seed = 42\n",
    "np.random.seed(42)"
   ]
  },
  {
   "cell_type": "code",
   "execution_count": 87,
   "metadata": {
    "ExecuteTime": {
     "end_time": "2022-10-03T08:54:57.194167Z",
     "start_time": "2022-10-03T08:54:57.098060Z"
    }
   },
   "outputs": [
    {
     "data": {
      "text/html": [
       "<div>\n",
       "<style scoped>\n",
       "    .dataframe tbody tr th:only-of-type {\n",
       "        vertical-align: middle;\n",
       "    }\n",
       "\n",
       "    .dataframe tbody tr th {\n",
       "        vertical-align: top;\n",
       "    }\n",
       "\n",
       "    .dataframe thead th {\n",
       "        text-align: right;\n",
       "    }\n",
       "</style>\n",
       "<table border=\"1\" class=\"dataframe\">\n",
       "  <thead>\n",
       "    <tr style=\"text-align: right;\">\n",
       "      <th></th>\n",
       "      <th>player</th>\n",
       "      <th>stat1</th>\n",
       "      <th>stat2</th>\n",
       "      <th>stat3</th>\n",
       "      <th>stat4</th>\n",
       "      <th>stat5</th>\n",
       "      <th>stat6</th>\n",
       "      <th>stat7</th>\n",
       "      <th>stat8</th>\n",
       "      <th>stat9</th>\n",
       "      <th>...</th>\n",
       "      <th>stat118</th>\n",
       "      <th>stat119</th>\n",
       "      <th>stat120</th>\n",
       "      <th>stat121</th>\n",
       "      <th>stat122</th>\n",
       "      <th>stat123</th>\n",
       "      <th>stat124</th>\n",
       "      <th>stat125</th>\n",
       "      <th>stat126</th>\n",
       "      <th>stat127</th>\n",
       "    </tr>\n",
       "  </thead>\n",
       "  <tbody>\n",
       "    <tr>\n",
       "      <th>0</th>\n",
       "      <td>gr_player1</td>\n",
       "      <td>0.000000</td>\n",
       "      <td>0.551756</td>\n",
       "      <td>NaN</td>\n",
       "      <td>0.227376</td>\n",
       "      <td>0.089159</td>\n",
       "      <td>NaN</td>\n",
       "      <td>0.625330</td>\n",
       "      <td>NaN</td>\n",
       "      <td>0.080153</td>\n",
       "      <td>...</td>\n",
       "      <td>0.450982</td>\n",
       "      <td>0.205062</td>\n",
       "      <td>0.326149</td>\n",
       "      <td>0.255466</td>\n",
       "      <td>0.294282</td>\n",
       "      <td>0.002488</td>\n",
       "      <td>NaN</td>\n",
       "      <td>0.265898</td>\n",
       "      <td>NaN</td>\n",
       "      <td>NaN</td>\n",
       "    </tr>\n",
       "    <tr>\n",
       "      <th>1</th>\n",
       "      <td>gr_player2</td>\n",
       "      <td>0.000000</td>\n",
       "      <td>0.559532</td>\n",
       "      <td>NaN</td>\n",
       "      <td>0.197149</td>\n",
       "      <td>0.109987</td>\n",
       "      <td>NaN</td>\n",
       "      <td>0.685624</td>\n",
       "      <td>NaN</td>\n",
       "      <td>0.120219</td>\n",
       "      <td>...</td>\n",
       "      <td>0.438461</td>\n",
       "      <td>0.223621</td>\n",
       "      <td>0.325301</td>\n",
       "      <td>0.274218</td>\n",
       "      <td>0.289307</td>\n",
       "      <td>0.013705</td>\n",
       "      <td>NaN</td>\n",
       "      <td>0.251024</td>\n",
       "      <td>NaN</td>\n",
       "      <td>NaN</td>\n",
       "    </tr>\n",
       "    <tr>\n",
       "      <th>2</th>\n",
       "      <td>gr_player3</td>\n",
       "      <td>0.000013</td>\n",
       "      <td>0.542488</td>\n",
       "      <td>NaN</td>\n",
       "      <td>0.193920</td>\n",
       "      <td>0.079732</td>\n",
       "      <td>NaN</td>\n",
       "      <td>0.619612</td>\n",
       "      <td>NaN</td>\n",
       "      <td>0.072533</td>\n",
       "      <td>...</td>\n",
       "      <td>0.443868</td>\n",
       "      <td>0.197362</td>\n",
       "      <td>0.323240</td>\n",
       "      <td>0.256494</td>\n",
       "      <td>0.303659</td>\n",
       "      <td>0.005041</td>\n",
       "      <td>NaN</td>\n",
       "      <td>0.258904</td>\n",
       "      <td>NaN</td>\n",
       "      <td>NaN</td>\n",
       "    </tr>\n",
       "    <tr>\n",
       "      <th>3</th>\n",
       "      <td>gr_player4</td>\n",
       "      <td>0.000000</td>\n",
       "      <td>0.560295</td>\n",
       "      <td>NaN</td>\n",
       "      <td>0.228996</td>\n",
       "      <td>0.078283</td>\n",
       "      <td>NaN</td>\n",
       "      <td>0.626145</td>\n",
       "      <td>NaN</td>\n",
       "      <td>0.049505</td>\n",
       "      <td>...</td>\n",
       "      <td>0.439452</td>\n",
       "      <td>0.201277</td>\n",
       "      <td>0.311881</td>\n",
       "      <td>0.253795</td>\n",
       "      <td>0.292665</td>\n",
       "      <td>0.005589</td>\n",
       "      <td>NaN</td>\n",
       "      <td>0.244630</td>\n",
       "      <td>NaN</td>\n",
       "      <td>NaN</td>\n",
       "    </tr>\n",
       "    <tr>\n",
       "      <th>4</th>\n",
       "      <td>gr_player5</td>\n",
       "      <td>0.000102</td>\n",
       "      <td>0.592927</td>\n",
       "      <td>NaN</td>\n",
       "      <td>0.231728</td>\n",
       "      <td>0.057743</td>\n",
       "      <td>NaN</td>\n",
       "      <td>0.597334</td>\n",
       "      <td>NaN</td>\n",
       "      <td>0.058140</td>\n",
       "      <td>...</td>\n",
       "      <td>0.426566</td>\n",
       "      <td>0.202446</td>\n",
       "      <td>0.322222</td>\n",
       "      <td>0.267663</td>\n",
       "      <td>0.296040</td>\n",
       "      <td>0.004804</td>\n",
       "      <td>NaN</td>\n",
       "      <td>0.255882</td>\n",
       "      <td>NaN</td>\n",
       "      <td>NaN</td>\n",
       "    </tr>\n",
       "  </tbody>\n",
       "</table>\n",
       "<p>5 rows × 128 columns</p>\n",
       "</div>"
      ],
      "text/plain": [
       "       player     stat1     stat2  stat3     stat4     stat5  stat6     stat7  \\\n",
       "0  gr_player1  0.000000  0.551756    NaN  0.227376  0.089159    NaN  0.625330   \n",
       "1  gr_player2  0.000000  0.559532    NaN  0.197149  0.109987    NaN  0.685624   \n",
       "2  gr_player3  0.000013  0.542488    NaN  0.193920  0.079732    NaN  0.619612   \n",
       "3  gr_player4  0.000000  0.560295    NaN  0.228996  0.078283    NaN  0.626145   \n",
       "4  gr_player5  0.000102  0.592927    NaN  0.231728  0.057743    NaN  0.597334   \n",
       "\n",
       "   stat8     stat9  ...   stat118   stat119   stat120   stat121   stat122  \\\n",
       "0    NaN  0.080153  ...  0.450982  0.205062  0.326149  0.255466  0.294282   \n",
       "1    NaN  0.120219  ...  0.438461  0.223621  0.325301  0.274218  0.289307   \n",
       "2    NaN  0.072533  ...  0.443868  0.197362  0.323240  0.256494  0.303659   \n",
       "3    NaN  0.049505  ...  0.439452  0.201277  0.311881  0.253795  0.292665   \n",
       "4    NaN  0.058140  ...  0.426566  0.202446  0.322222  0.267663  0.296040   \n",
       "\n",
       "    stat123  stat124   stat125  stat126  stat127  \n",
       "0  0.002488      NaN  0.265898      NaN      NaN  \n",
       "1  0.013705      NaN  0.251024      NaN      NaN  \n",
       "2  0.005041      NaN  0.258904      NaN      NaN  \n",
       "3  0.005589      NaN  0.244630      NaN      NaN  \n",
       "4  0.004804      NaN  0.255882      NaN      NaN  \n",
       "\n",
       "[5 rows x 128 columns]"
      ]
     },
     "execution_count": 87,
     "metadata": {},
     "output_type": "execute_result"
    }
   ],
   "source": [
    "df = pd.read_csv('DS_task_2_Group_Style_By_stats_v2.csv')\n",
    "\n",
    "df.head()"
   ]
  },
  {
   "cell_type": "code",
   "execution_count": null,
   "metadata": {},
   "outputs": [],
   "source": []
  },
  {
   "cell_type": "markdown",
   "metadata": {},
   "source": [
    "# EDA"
   ]
  },
  {
   "cell_type": "markdown",
   "metadata": {},
   "source": [
    "### Первичный анализ данных"
   ]
  },
  {
   "cell_type": "code",
   "execution_count": 88,
   "metadata": {
    "ExecuteTime": {
     "end_time": "2022-10-03T08:54:58.999045Z",
     "start_time": "2022-10-03T08:54:58.994169Z"
    }
   },
   "outputs": [
    {
     "name": "stdout",
     "output_type": "stream",
     "text": [
      "Размер датасета: (53, 128)\n"
     ]
    }
   ],
   "source": [
    "# Посмотрим размер датасета и пропущенные значения.\n",
    "print(\"Размер датасета:\", df.shape)"
   ]
  },
  {
   "cell_type": "code",
   "execution_count": 89,
   "metadata": {
    "ExecuteTime": {
     "end_time": "2022-10-03T08:54:59.493667Z",
     "start_time": "2022-10-03T08:54:59.474759Z"
    }
   },
   "outputs": [
    {
     "data": {
      "text/plain": [
       "1551"
      ]
     },
     "execution_count": 89,
     "metadata": {},
     "output_type": "execute_result"
    }
   ],
   "source": [
    "# Проверим, есть ли в нашем датасете пропуски\n",
    "sum(df.isnull().sum())"
   ]
  },
  {
   "cell_type": "code",
   "execution_count": 90,
   "metadata": {
    "ExecuteTime": {
     "end_time": "2022-10-03T08:55:01.190495Z",
     "start_time": "2022-10-03T08:55:00.779977Z"
    }
   },
   "outputs": [
    {
     "data": {
      "text/html": [
       "<div>\n",
       "<style scoped>\n",
       "    .dataframe tbody tr th:only-of-type {\n",
       "        vertical-align: middle;\n",
       "    }\n",
       "\n",
       "    .dataframe tbody tr th {\n",
       "        vertical-align: top;\n",
       "    }\n",
       "\n",
       "    .dataframe thead th {\n",
       "        text-align: right;\n",
       "    }\n",
       "</style>\n",
       "<table border=\"1\" class=\"dataframe\">\n",
       "  <thead>\n",
       "    <tr style=\"text-align: right;\">\n",
       "      <th></th>\n",
       "      <th>stat1</th>\n",
       "      <th>stat2</th>\n",
       "      <th>stat3</th>\n",
       "      <th>stat4</th>\n",
       "      <th>stat5</th>\n",
       "      <th>stat6</th>\n",
       "      <th>stat7</th>\n",
       "      <th>stat8</th>\n",
       "      <th>stat9</th>\n",
       "      <th>stat10</th>\n",
       "      <th>...</th>\n",
       "      <th>stat118</th>\n",
       "      <th>stat119</th>\n",
       "      <th>stat120</th>\n",
       "      <th>stat121</th>\n",
       "      <th>stat122</th>\n",
       "      <th>stat123</th>\n",
       "      <th>stat124</th>\n",
       "      <th>stat125</th>\n",
       "      <th>stat126</th>\n",
       "      <th>stat127</th>\n",
       "    </tr>\n",
       "  </thead>\n",
       "  <tbody>\n",
       "    <tr>\n",
       "      <th>count</th>\n",
       "      <td>53.000000</td>\n",
       "      <td>53.000000</td>\n",
       "      <td>0.0</td>\n",
       "      <td>53.000000</td>\n",
       "      <td>53.000000</td>\n",
       "      <td>0.0</td>\n",
       "      <td>53.000000</td>\n",
       "      <td>0.0</td>\n",
       "      <td>53.000000</td>\n",
       "      <td>0.0</td>\n",
       "      <td>...</td>\n",
       "      <td>53.000000</td>\n",
       "      <td>53.000000</td>\n",
       "      <td>53.000000</td>\n",
       "      <td>53.000000</td>\n",
       "      <td>53.000000</td>\n",
       "      <td>53.000000</td>\n",
       "      <td>0.0</td>\n",
       "      <td>53.000000</td>\n",
       "      <td>0.0</td>\n",
       "      <td>0.0</td>\n",
       "    </tr>\n",
       "    <tr>\n",
       "      <th>mean</th>\n",
       "      <td>0.000027</td>\n",
       "      <td>0.537849</td>\n",
       "      <td>NaN</td>\n",
       "      <td>0.210166</td>\n",
       "      <td>0.083576</td>\n",
       "      <td>NaN</td>\n",
       "      <td>0.616679</td>\n",
       "      <td>NaN</td>\n",
       "      <td>0.087899</td>\n",
       "      <td>NaN</td>\n",
       "      <td>...</td>\n",
       "      <td>0.450390</td>\n",
       "      <td>0.207702</td>\n",
       "      <td>0.322590</td>\n",
       "      <td>0.267999</td>\n",
       "      <td>0.297837</td>\n",
       "      <td>0.009250</td>\n",
       "      <td>NaN</td>\n",
       "      <td>0.264232</td>\n",
       "      <td>NaN</td>\n",
       "      <td>NaN</td>\n",
       "    </tr>\n",
       "    <tr>\n",
       "      <th>std</th>\n",
       "      <td>0.000043</td>\n",
       "      <td>0.043630</td>\n",
       "      <td>NaN</td>\n",
       "      <td>0.025430</td>\n",
       "      <td>0.018249</td>\n",
       "      <td>NaN</td>\n",
       "      <td>0.028060</td>\n",
       "      <td>NaN</td>\n",
       "      <td>0.028746</td>\n",
       "      <td>NaN</td>\n",
       "      <td>...</td>\n",
       "      <td>0.020245</td>\n",
       "      <td>0.011341</td>\n",
       "      <td>0.049068</td>\n",
       "      <td>0.012169</td>\n",
       "      <td>0.029435</td>\n",
       "      <td>0.007855</td>\n",
       "      <td>NaN</td>\n",
       "      <td>0.010712</td>\n",
       "      <td>NaN</td>\n",
       "      <td>NaN</td>\n",
       "    </tr>\n",
       "    <tr>\n",
       "      <th>min</th>\n",
       "      <td>0.000000</td>\n",
       "      <td>0.425349</td>\n",
       "      <td>NaN</td>\n",
       "      <td>0.165808</td>\n",
       "      <td>0.045775</td>\n",
       "      <td>NaN</td>\n",
       "      <td>0.547669</td>\n",
       "      <td>NaN</td>\n",
       "      <td>0.030928</td>\n",
       "      <td>NaN</td>\n",
       "      <td>...</td>\n",
       "      <td>0.392911</td>\n",
       "      <td>0.178428</td>\n",
       "      <td>0.206704</td>\n",
       "      <td>0.242901</td>\n",
       "      <td>0.165283</td>\n",
       "      <td>0.000000</td>\n",
       "      <td>NaN</td>\n",
       "      <td>0.237372</td>\n",
       "      <td>NaN</td>\n",
       "      <td>NaN</td>\n",
       "    </tr>\n",
       "    <tr>\n",
       "      <th>25%</th>\n",
       "      <td>0.000000</td>\n",
       "      <td>0.513078</td>\n",
       "      <td>NaN</td>\n",
       "      <td>0.193920</td>\n",
       "      <td>0.069825</td>\n",
       "      <td>NaN</td>\n",
       "      <td>0.600530</td>\n",
       "      <td>NaN</td>\n",
       "      <td>0.066667</td>\n",
       "      <td>NaN</td>\n",
       "      <td>...</td>\n",
       "      <td>0.438461</td>\n",
       "      <td>0.201277</td>\n",
       "      <td>0.297872</td>\n",
       "      <td>0.259350</td>\n",
       "      <td>0.288689</td>\n",
       "      <td>0.003559</td>\n",
       "      <td>NaN</td>\n",
       "      <td>0.258438</td>\n",
       "      <td>NaN</td>\n",
       "      <td>NaN</td>\n",
       "    </tr>\n",
       "    <tr>\n",
       "      <th>50%</th>\n",
       "      <td>0.000000</td>\n",
       "      <td>0.542488</td>\n",
       "      <td>NaN</td>\n",
       "      <td>0.210689</td>\n",
       "      <td>0.081081</td>\n",
       "      <td>NaN</td>\n",
       "      <td>0.620268</td>\n",
       "      <td>NaN</td>\n",
       "      <td>0.088235</td>\n",
       "      <td>NaN</td>\n",
       "      <td>...</td>\n",
       "      <td>0.445217</td>\n",
       "      <td>0.207946</td>\n",
       "      <td>0.318480</td>\n",
       "      <td>0.267369</td>\n",
       "      <td>0.298731</td>\n",
       "      <td>0.007303</td>\n",
       "      <td>NaN</td>\n",
       "      <td>0.263282</td>\n",
       "      <td>NaN</td>\n",
       "      <td>NaN</td>\n",
       "    </tr>\n",
       "    <tr>\n",
       "      <th>75%</th>\n",
       "      <td>0.000037</td>\n",
       "      <td>0.561430</td>\n",
       "      <td>NaN</td>\n",
       "      <td>0.228403</td>\n",
       "      <td>0.097610</td>\n",
       "      <td>NaN</td>\n",
       "      <td>0.633764</td>\n",
       "      <td>NaN</td>\n",
       "      <td>0.106383</td>\n",
       "      <td>NaN</td>\n",
       "      <td>...</td>\n",
       "      <td>0.462004</td>\n",
       "      <td>0.215279</td>\n",
       "      <td>0.343915</td>\n",
       "      <td>0.275611</td>\n",
       "      <td>0.314806</td>\n",
       "      <td>0.012301</td>\n",
       "      <td>NaN</td>\n",
       "      <td>0.270290</td>\n",
       "      <td>NaN</td>\n",
       "      <td>NaN</td>\n",
       "    </tr>\n",
       "    <tr>\n",
       "      <th>max</th>\n",
       "      <td>0.000188</td>\n",
       "      <td>0.623913</td>\n",
       "      <td>NaN</td>\n",
       "      <td>0.284902</td>\n",
       "      <td>0.118987</td>\n",
       "      <td>NaN</td>\n",
       "      <td>0.685624</td>\n",
       "      <td>NaN</td>\n",
       "      <td>0.148515</td>\n",
       "      <td>NaN</td>\n",
       "      <td>...</td>\n",
       "      <td>0.503048</td>\n",
       "      <td>0.232718</td>\n",
       "      <td>0.501706</td>\n",
       "      <td>0.295311</td>\n",
       "      <td>0.346110</td>\n",
       "      <td>0.034413</td>\n",
       "      <td>NaN</td>\n",
       "      <td>0.287544</td>\n",
       "      <td>NaN</td>\n",
       "      <td>NaN</td>\n",
       "    </tr>\n",
       "  </tbody>\n",
       "</table>\n",
       "<p>8 rows × 127 columns</p>\n",
       "</div>"
      ],
      "text/plain": [
       "           stat1      stat2  stat3      stat4      stat5  stat6      stat7  \\\n",
       "count  53.000000  53.000000    0.0  53.000000  53.000000    0.0  53.000000   \n",
       "mean    0.000027   0.537849    NaN   0.210166   0.083576    NaN   0.616679   \n",
       "std     0.000043   0.043630    NaN   0.025430   0.018249    NaN   0.028060   \n",
       "min     0.000000   0.425349    NaN   0.165808   0.045775    NaN   0.547669   \n",
       "25%     0.000000   0.513078    NaN   0.193920   0.069825    NaN   0.600530   \n",
       "50%     0.000000   0.542488    NaN   0.210689   0.081081    NaN   0.620268   \n",
       "75%     0.000037   0.561430    NaN   0.228403   0.097610    NaN   0.633764   \n",
       "max     0.000188   0.623913    NaN   0.284902   0.118987    NaN   0.685624   \n",
       "\n",
       "       stat8      stat9  stat10  ...    stat118    stat119    stat120  \\\n",
       "count    0.0  53.000000     0.0  ...  53.000000  53.000000  53.000000   \n",
       "mean     NaN   0.087899     NaN  ...   0.450390   0.207702   0.322590   \n",
       "std      NaN   0.028746     NaN  ...   0.020245   0.011341   0.049068   \n",
       "min      NaN   0.030928     NaN  ...   0.392911   0.178428   0.206704   \n",
       "25%      NaN   0.066667     NaN  ...   0.438461   0.201277   0.297872   \n",
       "50%      NaN   0.088235     NaN  ...   0.445217   0.207946   0.318480   \n",
       "75%      NaN   0.106383     NaN  ...   0.462004   0.215279   0.343915   \n",
       "max      NaN   0.148515     NaN  ...   0.503048   0.232718   0.501706   \n",
       "\n",
       "         stat121    stat122    stat123  stat124    stat125  stat126  stat127  \n",
       "count  53.000000  53.000000  53.000000      0.0  53.000000      0.0      0.0  \n",
       "mean    0.267999   0.297837   0.009250      NaN   0.264232      NaN      NaN  \n",
       "std     0.012169   0.029435   0.007855      NaN   0.010712      NaN      NaN  \n",
       "min     0.242901   0.165283   0.000000      NaN   0.237372      NaN      NaN  \n",
       "25%     0.259350   0.288689   0.003559      NaN   0.258438      NaN      NaN  \n",
       "50%     0.267369   0.298731   0.007303      NaN   0.263282      NaN      NaN  \n",
       "75%     0.275611   0.314806   0.012301      NaN   0.270290      NaN      NaN  \n",
       "max     0.295311   0.346110   0.034413      NaN   0.287544      NaN      NaN  \n",
       "\n",
       "[8 rows x 127 columns]"
      ]
     },
     "execution_count": 90,
     "metadata": {},
     "output_type": "execute_result"
    }
   ],
   "source": [
    "# Посмотрим статистические значения переменных\n",
    "\n",
    "df.describe()"
   ]
  },
  {
   "cell_type": "markdown",
   "metadata": {},
   "source": [
    "**Вывод:** По этой таблице можно сказать, что <br/> \n",
    "1) Часть переменных имеет значения NaN во всем столбце, тк count = 0, <br/> а значения min, max, mean равны NaN. \n",
    "Если в столбце содержится одиноаковое значение для всех элементов, то такие столбцы можно <br/> \n",
    "выкидывать из рассмотрения, тк они не несут никакой информации.\n",
    "\n",
    "2) Есть столбцы с частью пропущенных значений, например столбец \"stat9\" в нем есть два пропуска. <br/> \n",
    "Это опять же можно увидеть по строке \"count\" <br/> "
   ]
  },
  {
   "cell_type": "markdown",
   "metadata": {},
   "source": [
    "### Преобразование данных"
   ]
  },
  {
   "cell_type": "code",
   "execution_count": 91,
   "metadata": {
    "ExecuteTime": {
     "end_time": "2022-10-03T08:55:03.390390Z",
     "start_time": "2022-10-03T08:55:03.098389Z"
    }
   },
   "outputs": [
    {
     "name": "stdout",
     "output_type": "stream",
     "text": [
      "Count of drop columns:  26\n"
     ]
    }
   ],
   "source": [
    "# Получим список колонок, в которых стоит только NaN, далее их просто удалим\n",
    "drop_columns = pd.DataFrame(df.describe().iloc[0] == 0).reset_index().rename(columns={\"index\": \"column\", \"count\": \"value\"})\n",
    "drop_columns = drop_columns[drop_columns['value']==True][['column']].values\n",
    "drop_columns = [column[0] for column in drop_columns.tolist()]\n",
    "print(\"Count of drop columns: \", len(drop_columns))\n",
    "\n",
    "# Удалим эти колонки\n",
    "df.drop(drop_columns, axis=1, inplace=True)"
   ]
  },
  {
   "cell_type": "code",
   "execution_count": 92,
   "metadata": {
    "ExecuteTime": {
     "end_time": "2022-10-03T08:55:03.942841Z",
     "start_time": "2022-10-03T08:55:03.691426Z"
    }
   },
   "outputs": [
    {
     "data": {
      "text/plain": [
       "0.0"
      ]
     },
     "execution_count": 92,
     "metadata": {},
     "output_type": "execute_result"
    }
   ],
   "source": [
    "# Тк в данных есть еще NaN, их нужно заменить на какое-то значение, \n",
    "# для этого проверим какое минимальное значение в текущем DataFrame\n",
    "\n",
    "df.describe().min().min()"
   ]
  },
  {
   "cell_type": "markdown",
   "metadata": {},
   "source": [
    "**Вывод** Значит оставшиеся пропущенные значения можно заменить на -1, те выбрать какую-то величину, которая не появлялась в датасете"
   ]
  },
  {
   "cell_type": "code",
   "execution_count": 93,
   "metadata": {
    "ExecuteTime": {
     "end_time": "2022-10-03T08:55:05.710586Z",
     "start_time": "2022-10-03T08:55:05.705796Z"
    }
   },
   "outputs": [],
   "source": [
    "# Заполним пропущенные значения -1\n",
    "\n",
    "df.fillna(-1, inplace = True)"
   ]
  },
  {
   "cell_type": "code",
   "execution_count": 94,
   "metadata": {
    "ExecuteTime": {
     "end_time": "2022-10-03T08:55:06.249283Z",
     "start_time": "2022-10-03T08:55:06.233783Z"
    }
   },
   "outputs": [
    {
     "data": {
      "text/plain": [
       "[]"
      ]
     },
     "execution_count": 94,
     "metadata": {},
     "output_type": "execute_result"
    }
   ],
   "source": [
    "# Произведем поиск столбцов, которые имеют одно и тоже значение для всех игроков.\n",
    "# Такие столбцы никак не влияют на результат. Возможно это просто поломка показателя, надо обращаться \n",
    "\n",
    "drop_columns_list = []\n",
    "\n",
    "for column in df.drop(['player'], axis = 1):\n",
    "    if max(df[column]) == min(df[column]) == np.mean(df[column]):\n",
    "        drop_columns_list.append(column)\n",
    "        \n",
    "drop_columns_list"
   ]
  },
  {
   "cell_type": "markdown",
   "metadata": {},
   "source": [
    "**Вывод:** В датафрейме нет столбцов, которые состоят из одинакового значения!"
   ]
  },
  {
   "cell_type": "code",
   "execution_count": null,
   "metadata": {},
   "outputs": [],
   "source": []
  },
  {
   "cell_type": "markdown",
   "metadata": {},
   "source": [
    "### Standart-Scaling"
   ]
  },
  {
   "cell_type": "markdown",
   "metadata": {},
   "source": [
    "Нужно отшкалировать данные, чтобы элементы с большим значением не вносили более сильный вклад в подсчет расстояния."
   ]
  },
  {
   "cell_type": "code",
   "execution_count": 95,
   "metadata": {
    "ExecuteTime": {
     "end_time": "2022-10-03T08:55:09.702221Z",
     "start_time": "2022-10-03T08:55:09.697699Z"
    }
   },
   "outputs": [],
   "source": [
    "X = df.copy(deep=True)"
   ]
  },
  {
   "cell_type": "code",
   "execution_count": 96,
   "metadata": {
    "ExecuteTime": {
     "end_time": "2022-10-03T08:55:18.353385Z",
     "start_time": "2022-10-03T08:55:18.266898Z"
    }
   },
   "outputs": [
    {
     "data": {
      "text/html": [
       "<div>\n",
       "<style scoped>\n",
       "    .dataframe tbody tr th:only-of-type {\n",
       "        vertical-align: middle;\n",
       "    }\n",
       "\n",
       "    .dataframe tbody tr th {\n",
       "        vertical-align: top;\n",
       "    }\n",
       "\n",
       "    .dataframe thead th {\n",
       "        text-align: right;\n",
       "    }\n",
       "</style>\n",
       "<table border=\"1\" class=\"dataframe\">\n",
       "  <thead>\n",
       "    <tr style=\"text-align: right;\">\n",
       "      <th></th>\n",
       "      <th>player</th>\n",
       "      <th>stat1</th>\n",
       "      <th>stat2</th>\n",
       "      <th>stat4</th>\n",
       "      <th>stat5</th>\n",
       "      <th>stat7</th>\n",
       "      <th>stat9</th>\n",
       "      <th>stat11</th>\n",
       "      <th>stat12</th>\n",
       "      <th>stat13</th>\n",
       "      <th>...</th>\n",
       "      <th>stat113</th>\n",
       "      <th>stat115</th>\n",
       "      <th>stat117</th>\n",
       "      <th>stat118</th>\n",
       "      <th>stat119</th>\n",
       "      <th>stat120</th>\n",
       "      <th>stat121</th>\n",
       "      <th>stat122</th>\n",
       "      <th>stat123</th>\n",
       "      <th>stat125</th>\n",
       "    </tr>\n",
       "  </thead>\n",
       "  <tbody>\n",
       "    <tr>\n",
       "      <th>0</th>\n",
       "      <td>gr_player1</td>\n",
       "      <td>-0.643294</td>\n",
       "      <td>0.321794</td>\n",
       "      <td>0.683234</td>\n",
       "      <td>0.308838</td>\n",
       "      <td>0.311244</td>\n",
       "      <td>-0.272071</td>\n",
       "      <td>0.701357</td>\n",
       "      <td>0.524680</td>\n",
       "      <td>0.127595</td>\n",
       "      <td>...</td>\n",
       "      <td>0.365707</td>\n",
       "      <td>1.159044</td>\n",
       "      <td>0.340671</td>\n",
       "      <td>0.029536</td>\n",
       "      <td>-0.235059</td>\n",
       "      <td>0.073241</td>\n",
       "      <td>-1.039729</td>\n",
       "      <td>-0.121927</td>\n",
       "      <td>-0.869000</td>\n",
       "      <td>0.157011</td>\n",
       "    </tr>\n",
       "    <tr>\n",
       "      <th>1</th>\n",
       "      <td>gr_player2</td>\n",
       "      <td>-0.643294</td>\n",
       "      <td>0.501723</td>\n",
       "      <td>-0.516799</td>\n",
       "      <td>1.461084</td>\n",
       "      <td>2.480596</td>\n",
       "      <td>1.135058</td>\n",
       "      <td>1.770684</td>\n",
       "      <td>-1.344437</td>\n",
       "      <td>-0.922648</td>\n",
       "      <td>...</td>\n",
       "      <td>0.276816</td>\n",
       "      <td>-0.142419</td>\n",
       "      <td>-1.242781</td>\n",
       "      <td>-0.594886</td>\n",
       "      <td>1.417085</td>\n",
       "      <td>0.055789</td>\n",
       "      <td>0.515992</td>\n",
       "      <td>-0.292579</td>\n",
       "      <td>0.572543</td>\n",
       "      <td>-1.244763</td>\n",
       "    </tr>\n",
       "    <tr>\n",
       "      <th>2</th>\n",
       "      <td>gr_player3</td>\n",
       "      <td>-0.339109</td>\n",
       "      <td>0.107353</td>\n",
       "      <td>-0.644986</td>\n",
       "      <td>-0.212669</td>\n",
       "      <td>0.105496</td>\n",
       "      <td>-0.539688</td>\n",
       "      <td>-0.023666</td>\n",
       "      <td>-0.238948</td>\n",
       "      <td>0.431117</td>\n",
       "      <td>...</td>\n",
       "      <td>0.074405</td>\n",
       "      <td>-0.254164</td>\n",
       "      <td>0.638718</td>\n",
       "      <td>-0.325232</td>\n",
       "      <td>-0.920503</td>\n",
       "      <td>0.013379</td>\n",
       "      <td>-0.954422</td>\n",
       "      <td>0.199680</td>\n",
       "      <td>-0.540925</td>\n",
       "      <td>-0.502175</td>\n",
       "    </tr>\n",
       "    <tr>\n",
       "      <th>3</th>\n",
       "      <td>gr_player4</td>\n",
       "      <td>-0.643294</td>\n",
       "      <td>0.519396</td>\n",
       "      <td>0.747526</td>\n",
       "      <td>-0.292849</td>\n",
       "      <td>0.340568</td>\n",
       "      <td>-1.348431</td>\n",
       "      <td>-0.348113</td>\n",
       "      <td>1.073360</td>\n",
       "      <td>-0.574958</td>\n",
       "      <td>...</td>\n",
       "      <td>0.552998</td>\n",
       "      <td>0.211529</td>\n",
       "      <td>-0.643096</td>\n",
       "      <td>-0.545467</td>\n",
       "      <td>-0.571967</td>\n",
       "      <td>-0.220326</td>\n",
       "      <td>-1.178363</td>\n",
       "      <td>-0.177397</td>\n",
       "      <td>-0.470449</td>\n",
       "      <td>-1.847415</td>\n",
       "    </tr>\n",
       "    <tr>\n",
       "      <th>4</th>\n",
       "      <td>gr_player5</td>\n",
       "      <td>1.747659</td>\n",
       "      <td>1.274476</td>\n",
       "      <td>0.855986</td>\n",
       "      <td>-1.429150</td>\n",
       "      <td>-0.696049</td>\n",
       "      <td>-1.045181</td>\n",
       "      <td>-0.710141</td>\n",
       "      <td>-0.146971</td>\n",
       "      <td>-0.107954</td>\n",
       "      <td>...</td>\n",
       "      <td>1.304310</td>\n",
       "      <td>0.835729</td>\n",
       "      <td>-0.342423</td>\n",
       "      <td>-1.188053</td>\n",
       "      <td>-0.467919</td>\n",
       "      <td>-0.007561</td>\n",
       "      <td>-0.027868</td>\n",
       "      <td>-0.061640</td>\n",
       "      <td>-0.571374</td>\n",
       "      <td>-0.786933</td>\n",
       "    </tr>\n",
       "  </tbody>\n",
       "</table>\n",
       "<p>5 rows × 102 columns</p>\n",
       "</div>"
      ],
      "text/plain": [
       "       player     stat1     stat2     stat4     stat5     stat7     stat9  \\\n",
       "0  gr_player1 -0.643294  0.321794  0.683234  0.308838  0.311244 -0.272071   \n",
       "1  gr_player2 -0.643294  0.501723 -0.516799  1.461084  2.480596  1.135058   \n",
       "2  gr_player3 -0.339109  0.107353 -0.644986 -0.212669  0.105496 -0.539688   \n",
       "3  gr_player4 -0.643294  0.519396  0.747526 -0.292849  0.340568 -1.348431   \n",
       "4  gr_player5  1.747659  1.274476  0.855986 -1.429150 -0.696049 -1.045181   \n",
       "\n",
       "     stat11    stat12    stat13  ...   stat113   stat115   stat117   stat118  \\\n",
       "0  0.701357  0.524680  0.127595  ...  0.365707  1.159044  0.340671  0.029536   \n",
       "1  1.770684 -1.344437 -0.922648  ...  0.276816 -0.142419 -1.242781 -0.594886   \n",
       "2 -0.023666 -0.238948  0.431117  ...  0.074405 -0.254164  0.638718 -0.325232   \n",
       "3 -0.348113  1.073360 -0.574958  ...  0.552998  0.211529 -0.643096 -0.545467   \n",
       "4 -0.710141 -0.146971 -0.107954  ...  1.304310  0.835729 -0.342423 -1.188053   \n",
       "\n",
       "    stat119   stat120   stat121   stat122   stat123   stat125  \n",
       "0 -0.235059  0.073241 -1.039729 -0.121927 -0.869000  0.157011  \n",
       "1  1.417085  0.055789  0.515992 -0.292579  0.572543 -1.244763  \n",
       "2 -0.920503  0.013379 -0.954422  0.199680 -0.540925 -0.502175  \n",
       "3 -0.571967 -0.220326 -1.178363 -0.177397 -0.470449 -1.847415  \n",
       "4 -0.467919 -0.007561 -0.027868 -0.061640 -0.571374 -0.786933  \n",
       "\n",
       "[5 rows x 102 columns]"
      ]
     },
     "execution_count": 96,
     "metadata": {},
     "output_type": "execute_result"
    }
   ],
   "source": [
    "#list for cols to scale\n",
    "\n",
    "drop_columns = ['player']\n",
    "\n",
    "cols_to_scale = X.drop(drop_columns, axis=1).columns\n",
    "\n",
    "#create and fit scaler\n",
    "scaler = preprocessing.StandardScaler()\n",
    "scaler.fit(X[cols_to_scale])\n",
    "\n",
    "#scale selected data\n",
    "X[cols_to_scale] = scaler.transform(X[cols_to_scale])\n",
    "\n",
    "X_scaled = X.copy()\n",
    "X_scaled.head(5)"
   ]
  },
  {
   "cell_type": "code",
   "execution_count": null,
   "metadata": {},
   "outputs": [],
   "source": []
  },
  {
   "cell_type": "markdown",
   "metadata": {},
   "source": [
    "# 2. Описание алгоритма"
   ]
  },
  {
   "cell_type": "markdown",
   "metadata": {},
   "source": [
    "В качестве алгоритма нахождения похожих групп пользователей выберем алгоритм K-ближайших соседей.<br/>\n",
    "Суть его в том, что когда приходит новый элемент, то строится расстояние от него до всех имеющихся элементов и <br/>\n",
    "далее выбираются K ближайших\n",
    "\n",
    "В качестве расстояния можно использовать много различных метрик, в текущей задаче будем использовать просто Евклидову метрику."
   ]
  },
  {
   "cell_type": "code",
   "execution_count": null,
   "metadata": {},
   "outputs": [],
   "source": []
  },
  {
   "cell_type": "markdown",
   "metadata": {},
   "source": [
    "# Neighbors"
   ]
  },
  {
   "cell_type": "markdown",
   "metadata": {},
   "source": [
    "### Преобразование данных"
   ]
  },
  {
   "cell_type": "code",
   "execution_count": 97,
   "metadata": {
    "ExecuteTime": {
     "end_time": "2022-10-03T08:55:40.821617Z",
     "start_time": "2022-10-03T08:55:40.811365Z"
    }
   },
   "outputs": [],
   "source": [
    "# Выделим таблицу обучения,  а также новые примеры для предсказания\n",
    "\n",
    "X = X_scaled.head(49)\n",
    "X_new = X_scaled.tail(4)"
   ]
  },
  {
   "cell_type": "code",
   "execution_count": 98,
   "metadata": {
    "ExecuteTime": {
     "end_time": "2022-10-03T08:55:42.311237Z",
     "start_time": "2022-10-03T08:55:42.306871Z"
    }
   },
   "outputs": [],
   "source": [
    "# Создадим словарик, где сохраним связку индексов и названия группы.\n",
    "# Это пригодится в будущем дляобратного маппинга\n",
    "\n",
    "map_dict = X['player'].to_dict()"
   ]
  },
  {
   "cell_type": "markdown",
   "metadata": {},
   "source": [
    "### Обучение модели"
   ]
  },
  {
   "cell_type": "code",
   "execution_count": 99,
   "metadata": {
    "ExecuteTime": {
     "end_time": "2022-10-03T08:55:44.653846Z",
     "start_time": "2022-10-03T08:55:44.635369Z"
    }
   },
   "outputs": [
    {
     "data": {
      "text/plain": [
       "NearestNeighbors(metric='euclidean', n_neighbors=3, radius=1)"
      ]
     },
     "execution_count": 99,
     "metadata": {},
     "output_type": "execute_result"
    }
   ],
   "source": [
    "neigh = NearestNeighbors(metric='euclidean', n_neighbors=3, radius=1)\n",
    "neigh.fit(X.drop(['player'], axis=1))\n"
   ]
  },
  {
   "cell_type": "markdown",
   "metadata": {},
   "source": [
    "### Предсказание модели"
   ]
  },
  {
   "cell_type": "code",
   "execution_count": 100,
   "metadata": {
    "ExecuteTime": {
     "end_time": "2022-10-03T08:55:46.796595Z",
     "start_time": "2022-10-03T08:55:46.779072Z"
    }
   },
   "outputs": [
    {
     "name": "stdout",
     "output_type": "stream",
     "text": [
      "distance [[20.69304066 21.78609278 22.08881159]\n",
      " [ 7.26540874  7.60509599  7.79530014]\n",
      " [ 9.35548781  9.47698612  9.49790543]\n",
      " [20.41614781 21.88533423 22.16997102]]\n",
      "index [[42 24 39]\n",
      " [48  6 37]\n",
      " [24 43 16]\n",
      " [42 39 36]]\n"
     ]
    }
   ],
   "source": [
    "distance , index = neigh.kneighbors(X_new.drop(['player'], axis=1), 3, return_distance=True)\n",
    "\n",
    "print(\"distance\", distance)\n",
    "print(\"index\", index)"
   ]
  },
  {
   "cell_type": "markdown",
   "metadata": {},
   "source": [
    "### Собираем финальную таблицу"
   ]
  },
  {
   "cell_type": "code",
   "execution_count": 101,
   "metadata": {
    "ExecuteTime": {
     "end_time": "2022-10-03T08:55:49.314681Z",
     "start_time": "2022-10-03T08:55:49.291377Z"
    }
   },
   "outputs": [
    {
     "data": {
      "text/html": [
       "<div>\n",
       "<style scoped>\n",
       "    .dataframe tbody tr th:only-of-type {\n",
       "        vertical-align: middle;\n",
       "    }\n",
       "\n",
       "    .dataframe tbody tr th {\n",
       "        vertical-align: top;\n",
       "    }\n",
       "\n",
       "    .dataframe thead th {\n",
       "        text-align: right;\n",
       "    }\n",
       "</style>\n",
       "<table border=\"1\" class=\"dataframe\">\n",
       "  <thead>\n",
       "    <tr style=\"text-align: right;\">\n",
       "      <th></th>\n",
       "      <th>player</th>\n",
       "      <th>neighbor_1</th>\n",
       "      <th>neighbor_2</th>\n",
       "      <th>neighbor_3</th>\n",
       "      <th>distance_1</th>\n",
       "      <th>distance_2</th>\n",
       "      <th>distance_3</th>\n",
       "    </tr>\n",
       "  </thead>\n",
       "  <tbody>\n",
       "    <tr>\n",
       "      <th>0</th>\n",
       "      <td>new_player1</td>\n",
       "      <td>gr_player43</td>\n",
       "      <td>gr_player25</td>\n",
       "      <td>gr_player40</td>\n",
       "      <td>20.693041</td>\n",
       "      <td>21.786093</td>\n",
       "      <td>22.088812</td>\n",
       "    </tr>\n",
       "    <tr>\n",
       "      <th>1</th>\n",
       "      <td>new_player2</td>\n",
       "      <td>gr_player49</td>\n",
       "      <td>gr_player7</td>\n",
       "      <td>gr_player38</td>\n",
       "      <td>7.265409</td>\n",
       "      <td>7.605096</td>\n",
       "      <td>7.795300</td>\n",
       "    </tr>\n",
       "    <tr>\n",
       "      <th>2</th>\n",
       "      <td>new_player3</td>\n",
       "      <td>gr_player25</td>\n",
       "      <td>gr_player44</td>\n",
       "      <td>gr_player17</td>\n",
       "      <td>9.355488</td>\n",
       "      <td>9.476986</td>\n",
       "      <td>9.497905</td>\n",
       "    </tr>\n",
       "    <tr>\n",
       "      <th>3</th>\n",
       "      <td>new_player4</td>\n",
       "      <td>gr_player43</td>\n",
       "      <td>gr_player40</td>\n",
       "      <td>gr_player37</td>\n",
       "      <td>20.416148</td>\n",
       "      <td>21.885334</td>\n",
       "      <td>22.169971</td>\n",
       "    </tr>\n",
       "  </tbody>\n",
       "</table>\n",
       "</div>"
      ],
      "text/plain": [
       "        player   neighbor_1   neighbor_2   neighbor_3  distance_1  distance_2  \\\n",
       "0  new_player1  gr_player43  gr_player25  gr_player40   20.693041   21.786093   \n",
       "1  new_player2  gr_player49   gr_player7  gr_player38    7.265409    7.605096   \n",
       "2  new_player3  gr_player25  gr_player44  gr_player17    9.355488    9.476986   \n",
       "3  new_player4  gr_player43  gr_player40  gr_player37   20.416148   21.885334   \n",
       "\n",
       "   distance_3  \n",
       "0   22.088812  \n",
       "1    7.795300  \n",
       "2    9.497905  \n",
       "3   22.169971  "
      ]
     },
     "execution_count": 101,
     "metadata": {},
     "output_type": "execute_result"
    }
   ],
   "source": [
    "neighbors = pd.DataFrame(index, columns = [\"neighbor_1\", \"neighbor_2\", \"neighbor_3\"])\n",
    "distances = pd.DataFrame(distance, columns = [\"distance_1\", \"distance_2\", \"distance_3\"])\n",
    "\n",
    "result = pd.concat([X_new['player'].reset_index(drop=True), neighbors, distances],  axis=1)\n",
    "\n",
    "\n",
    "# По индексам восстаналиваем группу пользователя\n",
    "result['neighbor_1'] = result['neighbor_1'].map(map_dict)\n",
    "result['neighbor_2'] = result['neighbor_2'].map(map_dict)\n",
    "result['neighbor_3'] = result['neighbor_3'].map(map_dict)\n",
    "\n",
    "result"
   ]
  },
  {
   "cell_type": "markdown",
   "metadata": {},
   "source": [
    "**Вывод:** В финальном ответе мы получили, ближайших соседей и расстояние до них. "
   ]
  },
  {
   "cell_type": "code",
   "execution_count": 77,
   "metadata": {
    "ExecuteTime": {
     "end_time": "2022-10-01T16:08:44.859061Z",
     "start_time": "2022-10-01T16:08:44.836724Z"
    }
   },
   "outputs": [
    {
     "data": {
      "text/html": [
       "<div>\n",
       "<style scoped>\n",
       "    .dataframe tbody tr th:only-of-type {\n",
       "        vertical-align: middle;\n",
       "    }\n",
       "\n",
       "    .dataframe tbody tr th {\n",
       "        vertical-align: top;\n",
       "    }\n",
       "\n",
       "    .dataframe thead th {\n",
       "        text-align: right;\n",
       "    }\n",
       "</style>\n",
       "<table border=\"1\" class=\"dataframe\">\n",
       "  <thead>\n",
       "    <tr style=\"text-align: right;\">\n",
       "      <th></th>\n",
       "      <th>player</th>\n",
       "      <th>neighbor_1</th>\n",
       "      <th>neighbor_2</th>\n",
       "      <th>neighbor_3</th>\n",
       "      <th>distance_1</th>\n",
       "      <th>distance_2</th>\n",
       "      <th>distance_3</th>\n",
       "    </tr>\n",
       "  </thead>\n",
       "  <tbody>\n",
       "    <tr>\n",
       "      <th>0</th>\n",
       "      <td>new_player1</td>\n",
       "      <td>gr_player28</td>\n",
       "      <td>gr_player42</td>\n",
       "      <td>gr_player48</td>\n",
       "      <td>0.732752</td>\n",
       "      <td>0.758433</td>\n",
       "      <td>0.760368</td>\n",
       "    </tr>\n",
       "    <tr>\n",
       "      <th>1</th>\n",
       "      <td>new_player2</td>\n",
       "      <td>gr_player38</td>\n",
       "      <td>gr_player49</td>\n",
       "      <td>gr_player29</td>\n",
       "      <td>0.357238</td>\n",
       "      <td>0.360554</td>\n",
       "      <td>0.365438</td>\n",
       "    </tr>\n",
       "    <tr>\n",
       "      <th>2</th>\n",
       "      <td>new_player3</td>\n",
       "      <td>gr_player3</td>\n",
       "      <td>gr_player9</td>\n",
       "      <td>gr_player16</td>\n",
       "      <td>0.335044</td>\n",
       "      <td>0.424540</td>\n",
       "      <td>0.470379</td>\n",
       "    </tr>\n",
       "    <tr>\n",
       "      <th>3</th>\n",
       "      <td>new_player4</td>\n",
       "      <td>gr_player8</td>\n",
       "      <td>gr_player39</td>\n",
       "      <td>gr_player11</td>\n",
       "      <td>0.698912</td>\n",
       "      <td>0.736396</td>\n",
       "      <td>0.776414</td>\n",
       "    </tr>\n",
       "  </tbody>\n",
       "</table>\n",
       "</div>"
      ],
      "text/plain": [
       "        player   neighbor_1   neighbor_2   neighbor_3  distance_1  distance_2  \\\n",
       "0  new_player1  gr_player28  gr_player42  gr_player48    0.732752    0.758433   \n",
       "1  new_player2  gr_player38  gr_player49  gr_player29    0.357238    0.360554   \n",
       "2  new_player3   gr_player3   gr_player9  gr_player16    0.335044    0.424540   \n",
       "3  new_player4   gr_player8  gr_player39  gr_player11    0.698912    0.736396   \n",
       "\n",
       "   distance_3  \n",
       "0    0.760368  \n",
       "1    0.365438  \n",
       "2    0.470379  \n",
       "3    0.776414  "
      ]
     },
     "execution_count": 77,
     "metadata": {},
     "output_type": "execute_result"
    }
   ],
   "source": [
    "neighbors = pd.DataFrame(index, columns = [\"neighbor_1\", \"neighbor_2\", \"neighbor_3\"])\n",
    "distances = pd.DataFrame(distance, columns = [\"distance_1\", \"distance_2\", \"distance_3\"])\n",
    "\n",
    "result = pd.concat([X_new['player'].reset_index(drop=True), neighbors, distances],  axis=1)\n",
    "\n",
    "\n",
    "# По индексам восстаналиваем группу пользователя\n",
    "result['neighbor_1'] = result['neighbor_1'].map(map_dict)\n",
    "result['neighbor_2'] = result['neighbor_2'].map(map_dict)\n",
    "result['neighbor_3'] = result['neighbor_3'].map(map_dict)\n",
    "\n",
    "result"
   ]
  },
  {
   "cell_type": "markdown",
   "metadata": {},
   "source": [
    "# 4. Итоговые результаты"
   ]
  },
  {
   "cell_type": "code",
   "execution_count": 102,
   "metadata": {
    "ExecuteTime": {
     "end_time": "2022-10-03T09:11:12.814924Z",
     "start_time": "2022-10-03T09:11:12.806264Z"
    }
   },
   "outputs": [],
   "source": [
    "result.to_csv('Task_2_answer.csv',index=False)"
   ]
  },
  {
   "cell_type": "markdown",
   "metadata": {},
   "source": [
    "# 5. Что можно улучшить"
   ]
  },
  {
   "cell_type": "markdown",
   "metadata": {},
   "source": [
    "1. **Ансамбль алгоритмов** <br/>\n",
    "Можно было использовать ансамбль алгоритмов, те посчитать K ближайших соседей с помощью нескольких разных метрик и\n",
    "далее выбрать среди первого соседа наиболее встречающегося, среди в второго и тд... <br/>\n",
    "<br/>\n",
    "\n",
    "2. **Embeddings** <br/>\n",
    "Если бы нам были даные изначальные данные по пользователям и группы к которым они относятся, то возможно было бы построить более лучшие embedding групп с помощью архитектуры нейронной сети: Coder-Decoder. После этих embeddings алгоритм K-ближайших соседей работал бы намного лучше.\n"
   ]
  },
  {
   "cell_type": "code",
   "execution_count": null,
   "metadata": {},
   "outputs": [],
   "source": []
  },
  {
   "cell_type": "code",
   "execution_count": null,
   "metadata": {},
   "outputs": [],
   "source": []
  }
 ],
 "metadata": {
  "kernelspec": {
   "display_name": "Teramind",
   "language": "python",
   "name": "teramind"
  },
  "language_info": {
   "codemirror_mode": {
    "name": "ipython",
    "version": 3
   },
   "file_extension": ".py",
   "mimetype": "text/x-python",
   "name": "python",
   "nbconvert_exporter": "python",
   "pygments_lexer": "ipython3",
   "version": "3.7.4"
  }
 },
 "nbformat": 4,
 "nbformat_minor": 2
}
